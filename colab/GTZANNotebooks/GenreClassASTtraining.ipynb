{
  "cells": [
    {
      "cell_type": "markdown",
      "metadata": {
        "id": "view-in-github"
      },
      "source": [
        "<a href=\"https://colab.research.google.com/github/Tyler-Schwenk/ast-Rana-Draytonii/blob/master/ASTtraining.ipynb\" target=\"_parent\"><img src=\"https://colab.research.google.com/assets/colab-badge.svg\" alt=\"Open In Colab\"/></a>"
      ]
    },
    {
      "cell_type": "markdown",
      "metadata": {
        "id": "rMgme0ubOWEw"
      },
      "source": [
        "Author: Lejun (Roy) Liao -- liaolc@bc.edu\n",
        "\n",
        "\n",
        "For batchsize > 8: Must use GPU with more than 16gb memory\n"
      ]
    },
    {
      "cell_type": "markdown",
      "metadata": {
        "id": "M3vtsdTCsXdZ"
      },
      "source": [
        "**clone the repo**"
      ]
    },
    {
      "cell_type": "code",
      "execution_count": 1,
      "metadata": {
        "colab": {
          "base_uri": "https://localhost:8080/"
        },
        "id": "AEq6WnwksQg_",
        "outputId": "fe71731a-85d2-4b9f-c0a8-5bd66d55c0ab"
      },
      "outputs": [
        {
          "output_type": "stream",
          "name": "stdout",
          "text": [
            "Cloning into 'ASTonGTZAN'...\n",
            "remote: Enumerating objects: 6378, done.\u001b[K\n",
            "remote: Counting objects: 100% (134/134), done.\u001b[K\n",
            "remote: Compressing objects: 100% (90/90), done.\u001b[K\n",
            "remote: Total 6378 (delta 89), reused 85 (delta 44), pack-reused 6244\u001b[K\n",
            "Receiving objects: 100% (6378/6378), 1.94 GiB | 33.60 MiB/s, done.\n",
            "Resolving deltas: 100% (214/214), done.\n",
            "Updating files: 100% (3161/3161), done.\n"
          ]
        }
      ],
      "source": [
        "!git clone https://github.com/liaolc/ASTonGTZAN.git"
      ]
    },
    {
      "cell_type": "markdown",
      "metadata": {
        "id": "ExwQbEZ3FztL"
      },
      "source": [
        "**Mount google drive where data is stored**\n",
        " (requires authentication)"
      ]
    },
    {
      "cell_type": "code",
      "execution_count": 2,
      "metadata": {
        "colab": {
          "base_uri": "https://localhost:8080/"
        },
        "id": "xKnlnQG-Fs5r",
        "outputId": "aadfcddd-88d8-40ba-f0b0-f16602c9320a"
      },
      "outputs": [
        {
          "output_type": "stream",
          "name": "stdout",
          "text": [
            "Mounted at /content/drive\n"
          ]
        }
      ],
      "source": [
        "from google.colab import drive\n",
        "drive.mount('/content/drive')\n"
      ]
    },
    {
      "cell_type": "markdown",
      "metadata": {
        "id": "_EH0XKViHyh4"
      },
      "source": [
        "**Install dependencies**"
      ]
    },
    {
      "cell_type": "code",
      "execution_count": 3,
      "metadata": {
        "colab": {
          "base_uri": "https://localhost:8080/"
        },
        "id": "VIarrebOH0Vv",
        "outputId": "be79c00f-cdc3-4bd4-acf9-3790ba67469f"
      },
      "outputs": [
        {
          "output_type": "stream",
          "name": "stdout",
          "text": [
            "Collecting timm==0.4.5\n",
            "  Downloading timm-0.4.5-py3-none-any.whl (287 kB)\n",
            "\u001b[2K     \u001b[90m━━━━━━━━━━━━━━━━━━━━━━━━━━━━━━━━━━━━━━━━\u001b[0m \u001b[32m287.4/287.4 kB\u001b[0m \u001b[31m6.6 MB/s\u001b[0m eta \u001b[36m0:00:00\u001b[0m\n",
            "\u001b[?25hRequirement already satisfied: torch>=1.4 in /usr/local/lib/python3.10/dist-packages (from timm==0.4.5) (2.2.1+cu121)\n",
            "Requirement already satisfied: torchvision in /usr/local/lib/python3.10/dist-packages (from timm==0.4.5) (0.17.1+cu121)\n",
            "Requirement already satisfied: filelock in /usr/local/lib/python3.10/dist-packages (from torch>=1.4->timm==0.4.5) (3.14.0)\n",
            "Requirement already satisfied: typing-extensions>=4.8.0 in /usr/local/lib/python3.10/dist-packages (from torch>=1.4->timm==0.4.5) (4.11.0)\n",
            "Requirement already satisfied: sympy in /usr/local/lib/python3.10/dist-packages (from torch>=1.4->timm==0.4.5) (1.12)\n",
            "Requirement already satisfied: networkx in /usr/local/lib/python3.10/dist-packages (from torch>=1.4->timm==0.4.5) (3.3)\n",
            "Requirement already satisfied: jinja2 in /usr/local/lib/python3.10/dist-packages (from torch>=1.4->timm==0.4.5) (3.1.4)\n",
            "Requirement already satisfied: fsspec in /usr/local/lib/python3.10/dist-packages (from torch>=1.4->timm==0.4.5) (2023.6.0)\n",
            "Collecting nvidia-cuda-nvrtc-cu12==12.1.105 (from torch>=1.4->timm==0.4.5)\n",
            "  Using cached nvidia_cuda_nvrtc_cu12-12.1.105-py3-none-manylinux1_x86_64.whl (23.7 MB)\n",
            "Collecting nvidia-cuda-runtime-cu12==12.1.105 (from torch>=1.4->timm==0.4.5)\n",
            "  Using cached nvidia_cuda_runtime_cu12-12.1.105-py3-none-manylinux1_x86_64.whl (823 kB)\n",
            "Collecting nvidia-cuda-cupti-cu12==12.1.105 (from torch>=1.4->timm==0.4.5)\n",
            "  Using cached nvidia_cuda_cupti_cu12-12.1.105-py3-none-manylinux1_x86_64.whl (14.1 MB)\n",
            "Collecting nvidia-cudnn-cu12==8.9.2.26 (from torch>=1.4->timm==0.4.5)\n",
            "  Using cached nvidia_cudnn_cu12-8.9.2.26-py3-none-manylinux1_x86_64.whl (731.7 MB)\n",
            "Collecting nvidia-cublas-cu12==12.1.3.1 (from torch>=1.4->timm==0.4.5)\n",
            "  Using cached nvidia_cublas_cu12-12.1.3.1-py3-none-manylinux1_x86_64.whl (410.6 MB)\n",
            "Collecting nvidia-cufft-cu12==11.0.2.54 (from torch>=1.4->timm==0.4.5)\n",
            "  Using cached nvidia_cufft_cu12-11.0.2.54-py3-none-manylinux1_x86_64.whl (121.6 MB)\n",
            "Collecting nvidia-curand-cu12==10.3.2.106 (from torch>=1.4->timm==0.4.5)\n",
            "  Using cached nvidia_curand_cu12-10.3.2.106-py3-none-manylinux1_x86_64.whl (56.5 MB)\n",
            "Collecting nvidia-cusolver-cu12==11.4.5.107 (from torch>=1.4->timm==0.4.5)\n",
            "  Using cached nvidia_cusolver_cu12-11.4.5.107-py3-none-manylinux1_x86_64.whl (124.2 MB)\n",
            "Collecting nvidia-cusparse-cu12==12.1.0.106 (from torch>=1.4->timm==0.4.5)\n",
            "  Using cached nvidia_cusparse_cu12-12.1.0.106-py3-none-manylinux1_x86_64.whl (196.0 MB)\n",
            "Collecting nvidia-nccl-cu12==2.19.3 (from torch>=1.4->timm==0.4.5)\n",
            "  Using cached nvidia_nccl_cu12-2.19.3-py3-none-manylinux1_x86_64.whl (166.0 MB)\n",
            "Collecting nvidia-nvtx-cu12==12.1.105 (from torch>=1.4->timm==0.4.5)\n",
            "  Using cached nvidia_nvtx_cu12-12.1.105-py3-none-manylinux1_x86_64.whl (99 kB)\n",
            "Requirement already satisfied: triton==2.2.0 in /usr/local/lib/python3.10/dist-packages (from torch>=1.4->timm==0.4.5) (2.2.0)\n",
            "Collecting nvidia-nvjitlink-cu12 (from nvidia-cusolver-cu12==11.4.5.107->torch>=1.4->timm==0.4.5)\n",
            "  Using cached nvidia_nvjitlink_cu12-12.4.127-py3-none-manylinux2014_x86_64.whl (21.1 MB)\n",
            "Requirement already satisfied: numpy in /usr/local/lib/python3.10/dist-packages (from torchvision->timm==0.4.5) (1.25.2)\n",
            "Requirement already satisfied: pillow!=8.3.*,>=5.3.0 in /usr/local/lib/python3.10/dist-packages (from torchvision->timm==0.4.5) (9.4.0)\n",
            "Requirement already satisfied: MarkupSafe>=2.0 in /usr/local/lib/python3.10/dist-packages (from jinja2->torch>=1.4->timm==0.4.5) (2.1.5)\n",
            "Requirement already satisfied: mpmath>=0.19 in /usr/local/lib/python3.10/dist-packages (from sympy->torch>=1.4->timm==0.4.5) (1.3.0)\n",
            "Installing collected packages: nvidia-nvtx-cu12, nvidia-nvjitlink-cu12, nvidia-nccl-cu12, nvidia-curand-cu12, nvidia-cufft-cu12, nvidia-cuda-runtime-cu12, nvidia-cuda-nvrtc-cu12, nvidia-cuda-cupti-cu12, nvidia-cublas-cu12, nvidia-cusparse-cu12, nvidia-cudnn-cu12, nvidia-cusolver-cu12, timm\n",
            "Successfully installed nvidia-cublas-cu12-12.1.3.1 nvidia-cuda-cupti-cu12-12.1.105 nvidia-cuda-nvrtc-cu12-12.1.105 nvidia-cuda-runtime-cu12-12.1.105 nvidia-cudnn-cu12-8.9.2.26 nvidia-cufft-cu12-11.0.2.54 nvidia-curand-cu12-10.3.2.106 nvidia-cusolver-cu12-11.4.5.107 nvidia-cusparse-cu12-12.1.0.106 nvidia-nccl-cu12-2.19.3 nvidia-nvjitlink-cu12-12.4.127 nvidia-nvtx-cu12-12.1.105 timm-0.4.5\n",
            "Collecting wget\n",
            "  Downloading wget-3.2.zip (10 kB)\n",
            "  Preparing metadata (setup.py) ... \u001b[?25l\u001b[?25hdone\n",
            "Building wheels for collected packages: wget\n",
            "  Building wheel for wget (setup.py) ... \u001b[?25l\u001b[?25hdone\n",
            "  Created wheel for wget: filename=wget-3.2-py3-none-any.whl size=9656 sha256=966fab7c618c1798072426dee4897e6f1f58043e32ed9cff7d8d466367fcadac\n",
            "  Stored in directory: /root/.cache/pip/wheels/8b/f1/7f/5c94f0a7a505ca1c81cd1d9208ae2064675d97582078e6c769\n",
            "Successfully built wget\n",
            "Installing collected packages: wget\n",
            "Successfully installed wget-3.2\n",
            "Requirement already satisfied: torchaudio in /usr/local/lib/python3.10/dist-packages (2.2.1+cu121)\n",
            "Requirement already satisfied: torch==2.2.1 in /usr/local/lib/python3.10/dist-packages (from torchaudio) (2.2.1+cu121)\n",
            "Requirement already satisfied: filelock in /usr/local/lib/python3.10/dist-packages (from torch==2.2.1->torchaudio) (3.14.0)\n",
            "Requirement already satisfied: typing-extensions>=4.8.0 in /usr/local/lib/python3.10/dist-packages (from torch==2.2.1->torchaudio) (4.11.0)\n",
            "Requirement already satisfied: sympy in /usr/local/lib/python3.10/dist-packages (from torch==2.2.1->torchaudio) (1.12)\n",
            "Requirement already satisfied: networkx in /usr/local/lib/python3.10/dist-packages (from torch==2.2.1->torchaudio) (3.3)\n",
            "Requirement already satisfied: jinja2 in /usr/local/lib/python3.10/dist-packages (from torch==2.2.1->torchaudio) (3.1.4)\n",
            "Requirement already satisfied: fsspec in /usr/local/lib/python3.10/dist-packages (from torch==2.2.1->torchaudio) (2023.6.0)\n",
            "Requirement already satisfied: nvidia-cuda-nvrtc-cu12==12.1.105 in /usr/local/lib/python3.10/dist-packages (from torch==2.2.1->torchaudio) (12.1.105)\n",
            "Requirement already satisfied: nvidia-cuda-runtime-cu12==12.1.105 in /usr/local/lib/python3.10/dist-packages (from torch==2.2.1->torchaudio) (12.1.105)\n",
            "Requirement already satisfied: nvidia-cuda-cupti-cu12==12.1.105 in /usr/local/lib/python3.10/dist-packages (from torch==2.2.1->torchaudio) (12.1.105)\n",
            "Requirement already satisfied: nvidia-cudnn-cu12==8.9.2.26 in /usr/local/lib/python3.10/dist-packages (from torch==2.2.1->torchaudio) (8.9.2.26)\n",
            "Requirement already satisfied: nvidia-cublas-cu12==12.1.3.1 in /usr/local/lib/python3.10/dist-packages (from torch==2.2.1->torchaudio) (12.1.3.1)\n",
            "Requirement already satisfied: nvidia-cufft-cu12==11.0.2.54 in /usr/local/lib/python3.10/dist-packages (from torch==2.2.1->torchaudio) (11.0.2.54)\n",
            "Requirement already satisfied: nvidia-curand-cu12==10.3.2.106 in /usr/local/lib/python3.10/dist-packages (from torch==2.2.1->torchaudio) (10.3.2.106)\n",
            "Requirement already satisfied: nvidia-cusolver-cu12==11.4.5.107 in /usr/local/lib/python3.10/dist-packages (from torch==2.2.1->torchaudio) (11.4.5.107)\n",
            "Requirement already satisfied: nvidia-cusparse-cu12==12.1.0.106 in /usr/local/lib/python3.10/dist-packages (from torch==2.2.1->torchaudio) (12.1.0.106)\n",
            "Requirement already satisfied: nvidia-nccl-cu12==2.19.3 in /usr/local/lib/python3.10/dist-packages (from torch==2.2.1->torchaudio) (2.19.3)\n",
            "Requirement already satisfied: nvidia-nvtx-cu12==12.1.105 in /usr/local/lib/python3.10/dist-packages (from torch==2.2.1->torchaudio) (12.1.105)\n",
            "Requirement already satisfied: triton==2.2.0 in /usr/local/lib/python3.10/dist-packages (from torch==2.2.1->torchaudio) (2.2.0)\n",
            "Requirement already satisfied: nvidia-nvjitlink-cu12 in /usr/local/lib/python3.10/dist-packages (from nvidia-cusolver-cu12==11.4.5.107->torch==2.2.1->torchaudio) (12.4.127)\n",
            "Requirement already satisfied: MarkupSafe>=2.0 in /usr/local/lib/python3.10/dist-packages (from jinja2->torch==2.2.1->torchaudio) (2.1.5)\n",
            "Requirement already satisfied: mpmath>=0.19 in /usr/local/lib/python3.10/dist-packages (from sympy->torch==2.2.1->torchaudio) (1.3.0)\n",
            "/content/ASTonGTZAN\n"
          ]
        }
      ],
      "source": [
        "# Append the 'ast' directory to sys.path\n",
        "import sys\n",
        "sys.path.append('./ast')\n",
        "#sys.path.append('./ASTonGTZAN')\n",
        "\n",
        "# Install required packages\n",
        "!pip install timm==0.4.5\n",
        "!pip install wget\n",
        "!pip install torchaudio\n",
        "\n",
        "\n",
        "# Import necessary packages\n",
        "import os, csv, argparse, wget\n",
        "import torch, torchaudio, timm\n",
        "import numpy as np\n",
        "from torch.cuda.amp import autocast\n",
        "import IPython\n",
        "\n",
        "# Make sure you're in the right directory\n",
        "%cd ASTonGTZAN/\n",
        "\n",
        "# Set the TORCH_HOME environment variable (for saving pretrained models)\n",
        "os.environ['TORCH_HOME'] = './pretrained_models'\n",
        "if os.path.exists('./pretrained_models') == False:\n",
        "  os.mkdir('./pretrained_models')"
      ]
    },
    {
      "cell_type": "markdown",
      "metadata": {
        "id": "O-PTQ3lS3u3e"
      },
      "source": [
        "**Navigate to correct directory**"
      ]
    },
    {
      "cell_type": "code",
      "execution_count": 4,
      "metadata": {
        "colab": {
          "base_uri": "https://localhost:8080/"
        },
        "id": "IeL2VV1XHnzW",
        "outputId": "e486e211-64bd-444a-fcef-7c2d72735b80"
      },
      "outputs": [
        {
          "output_type": "stream",
          "name": "stdout",
          "text": [
            " ast.png   GTZANdatafiles  'Preprocessing & Train Script'   README.md\n",
            " colab\t   GTZANv1Archive   pretrained_models\t\t    requirements.txt\n",
            " egs\t   LICENSE\t    Rana_Draytonii_ML_Model\t    src\n",
            "/content/ASTonGTZAN/egs/GTZAN\n"
          ]
        }
      ],
      "source": [
        "!ls\n",
        "%cd egs/GTZAN/"
      ]
    },
    {
      "cell_type": "code",
      "execution_count": 5,
      "metadata": {
        "id": "NHf8ubz_JtTV"
      },
      "outputs": [],
      "source": [
        "#give execute permission to run.sh\n",
        "!chmod +x ./run_GTZAN_4_24_2330.sh\n"
      ]
    },
    {
      "cell_type": "code",
      "source": [
        "#reset experiment\n",
        "!pwd\n",
        "!rm -r exp"
      ],
      "metadata": {
        "colab": {
          "base_uri": "https://localhost:8080/"
        },
        "id": "qsgjIosqXCf_",
        "outputId": "f887b01d-c18a-4c62-e8cd-74b79c94b7a1"
      },
      "execution_count": 23,
      "outputs": [
        {
          "output_type": "stream",
          "name": "stdout",
          "text": [
            "/content/ASTonGTZAN/egs/GTZAN\n"
          ]
        }
      ]
    },
    {
      "cell_type": "markdown",
      "source": [
        "Generate Normalization Stats"
      ],
      "metadata": {
        "id": "zqmRa-YEpLLR"
      }
    },
    {
      "cell_type": "code",
      "source": [
        "!python ../../src/get_norm_stats.py"
      ],
      "metadata": {
        "colab": {
          "base_uri": "https://localhost:8080/"
        },
        "id": "JjVC3xkEBKll",
        "outputId": "ed672755-d223-435c-ea14-abd1fa588ae5"
      },
      "execution_count": null,
      "outputs": [
        {
          "output_type": "stream",
          "name": "stdout",
          "text": [
            "---------------the train dataloader---------------\n",
            "now using following mask: 48 freq, 192 time\n",
            "now using mix-up with rate 0.000000\n",
            "now process GTZAN\n",
            "now skip normalization (use it ONLY when you are computing the normalization stats).\n",
            "{'/m/gtzan00': '0', '/m/gtzan01': '1', '/m/gtzan02': '2', '/m/gtzan03': '3', '/m/gtzan04': '4', '/m/gtzan05': '5', '/m/gtzan06': '6', '/m/gtzan07': '7', '/m/gtzan08': '8', '/m/gtzan09': '9'}\n",
            "number of classes is 10\n",
            "Traceback (most recent call last):\n",
            "  File \"/usr/local/lib/python3.10/dist-packages/torch/utils/data/dataloader.py\", line 631, in __next__\n",
            "    data = self._next_data()\n",
            "  File \"/usr/local/lib/python3.10/dist-packages/torch/utils/data/dataloader.py\", line 1329, in _next_data\n",
            "    idx, data = self._get_data()\n",
            "  File \"/usr/local/lib/python3.10/dist-packages/torch/utils/data/dataloader.py\", line 1285, in _get_data\n",
            "    success, data = self._try_get_data()\n",
            "  File \"/usr/local/lib/python3.10/dist-packages/torch/utils/data/dataloader.py\", line 1133, in _try_get_data\n",
            "    data = self._data_queue.get(timeout=timeout)\n",
            "  File \"/usr/lib/python3.10/queue.py\", line 180, in get\n",
            "    self.not_empty.wait(remaining)\n",
            "  File \"/usr/lib/python3.10/threading.py\", line 324, in wait\n",
            "    gotit = waiter.acquire(True, timeout)\n",
            "KeyboardInterrupt\n",
            "\n",
            "During handling of the above exception, another exception occurred:\n",
            "\n",
            "Traceback (most recent call last):\n",
            "  File \"/content/ASTonGTZAN/egs/GTZAN/../../src/get_norm_stats.py\", line 23, in <module>\n",
            "    for i, (audio_input, labels) in enumerate(train_loader):\n",
            "  File \"/usr/local/lib/python3.10/dist-packages/torch/utils/data/dataloader.py\", line 627, in __next__\n",
            "    with torch.autograd.profiler.record_function(self._profile_name):\n",
            "  File \"/usr/local/lib/python3.10/dist-packages/torch/autograd/profiler.py\", line 620, in __exit__\n",
            "    if not torch.jit.is_scripting():\n",
            "  File \"/usr/local/lib/python3.10/dist-packages/torch/_jit_internal.py\", line 1120, in is_scripting\n",
            "    def is_scripting() -> bool:\n",
            "KeyboardInterrupt\n",
            "^C\n"
          ]
        }
      ]
    },
    {
      "cell_type": "markdown",
      "metadata": {
        "id": "l4tZb0NfHlC7"
      },
      "source": [
        "**Run the training script**"
      ]
    },
    {
      "cell_type": "code",
      "execution_count": 24,
      "metadata": {
        "colab": {
          "base_uri": "https://localhost:8080/"
        },
        "id": "98DEv8BmJhBB",
        "outputId": "6a1e3e2a-c487-45e8-fff9-27139456358f"
      },
      "outputs": [
        {
          "output_type": "stream",
          "name": "stdout",
          "text": [
            "+ export TORCH_HOME=../../pretrained_models\n",
            "+ TORCH_HOME=../../pretrained_models\n",
            "+ model=ast\n",
            "+ dataset=GTZAN\n",
            "+ imagenetpretrain=True\n",
            "+ audiosetpretrain=True\n",
            "+ bal=none\n",
            "+ lr=5.5e-5\n",
            "+ epoch=0\n",
            "+ freqm=0\n",
            "+ timem=0\n",
            "+ mixup=0.25\n",
            "+ batch_size=3\n",
            "+ fstride=10\n",
            "+ tstride=10\n",
            "+ dataset_mean=-2.2568474\n",
            "+ dataset_std=3.2726912\n",
            "+ audio_length=1024\n",
            "+ noise=False\n",
            "+ metrics=acc\n",
            "+ loss=CE\n",
            "+ warmup=True\n",
            "+ wa=True\n",
            "+ lrscheduler_start=5\n",
            "+ lrscheduler_step=1\n",
            "+ lrscheduler_decay=0.75\n",
            "+ tr_data=/content/drive/MyDrive/ASTonGTZAN-main/egs/GTZAN/data/GTZAN_train_data.json\n",
            "+ val_data=/content/drive/MyDrive/ASTonGTZAN-main/egs/GTZAN/data/GTZAN_valid_data.json\n",
            "+ eval_data=/content/drive/MyDrive/ASTonGTZAN-main/egs/GTZAN/data/GTZAN_eval_data.json\n",
            "+ exp_dir=./exp/test-GTZAN-f10-t10-pTrue-b3-lr5.5e-5-decoupe\n",
            "+ '[' -d ./exp/test-GTZAN-f10-t10-pTrue-b3-lr5.5e-5-decoupe ']'\n",
            "+ mkdir -p ./exp/test-GTZAN-f10-t10-pTrue-b3-lr5.5e-5-decoupe\n",
            "+ CUDA_CACHE_DISABLE=1\n",
            "+ python -W ignore ../../src/run.py --model ast --dataset GTZAN --data-train /content/drive/MyDrive/ASTonGTZAN-main/egs/GTZAN/data/GTZAN_train_data.json --data-val /content/drive/MyDrive/ASTonGTZAN-main/egs/GTZAN/data/GTZAN_valid_data.json --data-eval /content/drive/MyDrive/ASTonGTZAN-main/egs/GTZAN/data/GTZAN_eval_data.json --exp-dir ./exp/test-GTZAN-f10-t10-pTrue-b3-lr5.5e-5-decoupe --label-csv /content/drive/MyDrive/ASTonGTZAN-main/egs/GTZAN/data/GTZAN_class_labels_indices.csv --n_class 10 --lr 5.5e-5 --n-epochs 0 --batch-size 3 --save_model True --freqm 0 --timem 0 --mixup 0.25 --bal none --dataset_mean -2.2568474 --dataset_std 3.2726912 --audio_length 1024 --noise False --metrics acc --loss CE --warmup True --lrscheduler_start 5 --lrscheduler_step 1 --lrscheduler_decay 0.75 --tstride 10 --fstride 10 --imagenet_pretrain True --audioset_pretrain True\n"
          ]
        }
      ],
      "source": [
        "!./run_GTZAN_4_24_2330.sh"
      ]
    },
    {
      "cell_type": "markdown",
      "metadata": {
        "id": "oWcezAfaHnAa"
      },
      "source": [
        "Zip results"
      ]
    },
    {
      "cell_type": "code",
      "source": [
        "!mv ./exp/test-GTZAN-f10-t10-pTrue-b3-lr5.5e-5-decoupe/models/audio_model.10.pth ../../pretrained_models/"
      ],
      "metadata": {
        "id": "-tW1C1iga3cJ"
      },
      "execution_count": null,
      "outputs": []
    },
    {
      "cell_type": "code",
      "execution_count": null,
      "metadata": {
        "id": "YG9QLEZdEzd_",
        "colab": {
          "base_uri": "https://localhost:8080/"
        },
        "outputId": "bc7a50eb-21ab-402a-bda0-69960658af43"
      },
      "outputs": [
        {
          "output_type": "stream",
          "name": "stdout",
          "text": [
            "  adding: content/ASTonGTZAN/egs/GTZAN/ (stored 0%)\n",
            "  adding: content/ASTonGTZAN/egs/GTZAN/run_GTZAN_4_24_2250.sh (deflated 58%)\n",
            "  adding: content/ASTonGTZAN/egs/GTZAN/exp/ (stored 0%)\n",
            "  adding: content/ASTonGTZAN/egs/GTZAN/exp/test-GTZAN-f10-t10-pTrue-b3-lr5.5e-5-decoupe/ (stored 0%)\n",
            "  adding: content/ASTonGTZAN/egs/GTZAN/exp/test-GTZAN-f10-t10-pTrue-b3-lr5.5e-5-decoupe/stats_9.pickle (deflated 75%)\n",
            "  adding: content/ASTonGTZAN/egs/GTZAN/exp/test-GTZAN-f10-t10-pTrue-b3-lr5.5e-5-decoupe/stats_1.pickle (deflated 75%)\n",
            "  adding: content/ASTonGTZAN/egs/GTZAN/exp/test-GTZAN-f10-t10-pTrue-b3-lr5.5e-5-decoupe/stats_10.pickle (deflated 75%)\n",
            "  adding: content/ASTonGTZAN/egs/GTZAN/exp/test-GTZAN-f10-t10-pTrue-b3-lr5.5e-5-decoupe/stats_7.pickle (deflated 75%)\n",
            "  adding: content/ASTonGTZAN/egs/GTZAN/exp/test-GTZAN-f10-t10-pTrue-b3-lr5.5e-5-decoupe/result.csv (deflated 69%)\n",
            "  adding: content/ASTonGTZAN/egs/GTZAN/exp/test-GTZAN-f10-t10-pTrue-b3-lr5.5e-5-decoupe/predictions/ (stored 0%)\n",
            "  adding: content/ASTonGTZAN/egs/GTZAN/exp/test-GTZAN-f10-t10-pTrue-b3-lr5.5e-5-decoupe/predictions/target.csv (deflated 99%)\n",
            "  adding: content/ASTonGTZAN/egs/GTZAN/exp/test-GTZAN-f10-t10-pTrue-b3-lr5.5e-5-decoupe/predictions/predictions_10.csv (deflated 82%)\n",
            "  adding: content/ASTonGTZAN/egs/GTZAN/exp/test-GTZAN-f10-t10-pTrue-b3-lr5.5e-5-decoupe/predictions/cum_predictions.csv (deflated 74%)\n",
            "  adding: content/ASTonGTZAN/egs/GTZAN/exp/test-GTZAN-f10-t10-pTrue-b3-lr5.5e-5-decoupe/stats_5.pickle (deflated 75%)\n",
            "  adding: content/ASTonGTZAN/egs/GTZAN/exp/test-GTZAN-f10-t10-pTrue-b3-lr5.5e-5-decoupe/stats_4.pickle (deflated 74%)\n",
            "  adding: content/ASTonGTZAN/egs/GTZAN/exp/test-GTZAN-f10-t10-pTrue-b3-lr5.5e-5-decoupe/eval_result.csv (stored 0%)\n",
            "  adding: content/ASTonGTZAN/egs/GTZAN/exp/test-GTZAN-f10-t10-pTrue-b3-lr5.5e-5-decoupe/progress.pkl (deflated 26%)\n",
            "  adding: content/ASTonGTZAN/egs/GTZAN/exp/test-GTZAN-f10-t10-pTrue-b3-lr5.5e-5-decoupe/stats_3.pickle (deflated 75%)\n",
            "  adding: content/ASTonGTZAN/egs/GTZAN/exp/test-GTZAN-f10-t10-pTrue-b3-lr5.5e-5-decoupe/log.txt (deflated 93%)\n",
            "  adding: content/ASTonGTZAN/egs/GTZAN/exp/test-GTZAN-f10-t10-pTrue-b3-lr5.5e-5-decoupe/stats_8.pickle (deflated 75%)\n",
            "  adding: content/ASTonGTZAN/egs/GTZAN/exp/test-GTZAN-f10-t10-pTrue-b3-lr5.5e-5-decoupe/stats_2.pickle (deflated 75%)\n",
            "  adding: content/ASTonGTZAN/egs/GTZAN/exp/test-GTZAN-f10-t10-pTrue-b3-lr5.5e-5-decoupe/args.pkl (deflated 45%)\n",
            "  adding: content/ASTonGTZAN/egs/GTZAN/exp/test-GTZAN-f10-t10-pTrue-b3-lr5.5e-5-decoupe/stats_6.pickle (deflated 75%)\n",
            "  adding: content/ASTonGTZAN/egs/GTZAN/exp/test-GTZAN-f10-t10-pTrue-b3-lr5.5e-5-decoupe/models/ (stored 0%)\n",
            "  adding: content/ASTonGTZAN/egs/GTZAN/exp/test-GTZAN-f10-t10-pTrue-b3-lr5.5e-5-decoupe/models/audio_model.2.pth (deflated 7%)\n",
            "  adding: content/ASTonGTZAN/egs/GTZAN/exp/test-GTZAN-f10-t10-pTrue-b3-lr5.5e-5-decoupe/models/audio_model.7.pth (deflated 7%)\n",
            "  adding: content/ASTonGTZAN/egs/GTZAN/exp/test-GTZAN-f10-t10-pTrue-b3-lr5.5e-5-decoupe/models/audio_model.9.pth (deflated 7%)\n",
            "  adding: content/ASTonGTZAN/egs/GTZAN/exp/test-GTZAN-f10-t10-pTrue-b3-lr5.5e-5-decoupe/models/audio_model.1.pth (deflated 7%)\n",
            "  adding: content/ASTonGTZAN/egs/GTZAN/exp/test-GTZAN-f10-t10-pTrue-b3-lr5.5e-5-decoupe/models/best_optim_state.pth (deflated 7%)\n",
            "  adding: content/ASTonGTZAN/egs/GTZAN/exp/test-GTZAN-f10-t10-pTrue-b3-lr5.5e-5-decoupe/models/.ipynb_checkpoints/ (stored 0%)\n",
            "  adding: content/ASTonGTZAN/egs/GTZAN/exp/test-GTZAN-f10-t10-pTrue-b3-lr5.5e-5-decoupe/models/audio_model.3.pth (deflated 7%)\n",
            "  adding: content/ASTonGTZAN/egs/GTZAN/exp/test-GTZAN-f10-t10-pTrue-b3-lr5.5e-5-decoupe/models/audio_model.4.pth (deflated 7%)\n",
            "  adding: content/ASTonGTZAN/egs/GTZAN/exp/test-GTZAN-f10-t10-pTrue-b3-lr5.5e-5-decoupe/models/audio_model.5.pth (deflated 7%)\n",
            "  adding: content/ASTonGTZAN/egs/GTZAN/exp/test-GTZAN-f10-t10-pTrue-b3-lr5.5e-5-decoupe/models/audio_model.10.pth (deflated 7%)\n",
            "  adding: content/ASTonGTZAN/egs/GTZAN/exp/test-GTZAN-f10-t10-pTrue-b3-lr5.5e-5-decoupe/models/audio_model.8.pth (deflated 7%)\n",
            "  adding: content/ASTonGTZAN/egs/GTZAN/data/ (stored 0%)\n",
            "  adding: content/ASTonGTZAN/egs/GTZAN/data/GTZAN_train_data.json (deflated 98%)\n",
            "  adding: content/ASTonGTZAN/egs/GTZAN/data/test_filtered.txt (deflated 89%)\n",
            "  adding: content/ASTonGTZAN/egs/GTZAN/data/train_filtered.txt (deflated 89%)\n",
            "  adding: content/ASTonGTZAN/egs/GTZAN/data/GTZAN_valid_data.json (deflated 97%)\n",
            "  adding: content/ASTonGTZAN/egs/GTZAN/data/valid_filtered.txt (deflated 89%)\n",
            "  adding: content/ASTonGTZAN/egs/GTZAN/data/GTZAN_eval_data.json (deflated 97%)\n",
            "  adding: content/ASTonGTZAN/egs/GTZAN/data/GTZAN_class_labels_indices.csv (deflated 44%)\n",
            "  adding: content/ASTonGTZAN/egs/GTZAN/data/.DS_Store (deflated 95%)\n",
            "  adding: content/ASTonGTZAN/egs/GTZAN/run_GTZAN_4_24_2330.sh (deflated 58%)\n",
            "  adding: content/ASTonGTZAN/egs/GTZAN/run_GTZAN_4_24_1430.sh (deflated 53%)\n",
            "  adding: content/ASTonGTZAN/egs/GTZAN/run_GTZAN_4_24_2148.sh (deflated 57%)\n",
            "  adding: content/ASTonGTZAN/egs/GTZAN/.DS_Store (deflated 94%)\n"
          ]
        }
      ],
      "source": [
        "!rm /content/ResultGTZAN4_25_2.zip\n",
        "!zip -r /content/ResultGTZAN4_25_2.zip /content/ASTonGTZAN/egs/GTZAN"
      ]
    },
    {
      "cell_type": "code",
      "source": [
        "!zip -r /content/ASTrampingintermixup.zip /content/ASTonGTZAN/egs/GTZAN/exp/test-GTZAN-f10-t10-pTrue-b3-lr5.5e-5-decoupe/predictions"
      ],
      "metadata": {
        "colab": {
          "base_uri": "https://localhost:8080/"
        },
        "id": "dhaBz0Ir8clj",
        "outputId": "7f7faf59-df4d-4bb1-835f-c34da68b8abc"
      },
      "execution_count": 21,
      "outputs": [
        {
          "output_type": "stream",
          "name": "stdout",
          "text": [
            "  adding: content/ASTonGTZAN/egs/GTZAN/exp/test-GTZAN-f10-t10-pTrue-b3-lr5.5e-5-decoupe/predictions/ (stored 0%)\n",
            "  adding: content/ASTonGTZAN/egs/GTZAN/exp/test-GTZAN-f10-t10-pTrue-b3-lr5.5e-5-decoupe/predictions/cum_predictions.csv (deflated 75%)\n",
            "  adding: content/ASTonGTZAN/egs/GTZAN/exp/test-GTZAN-f10-t10-pTrue-b3-lr5.5e-5-decoupe/predictions/target.csv (deflated 99%)\n",
            "  adding: content/ASTonGTZAN/egs/GTZAN/exp/test-GTZAN-f10-t10-pTrue-b3-lr5.5e-5-decoupe/predictions/predictions_10.csv (deflated 82%)\n"
          ]
        }
      ]
    },
    {
      "cell_type": "markdown",
      "metadata": {
        "id": "itpCghaGHpFP"
      },
      "source": [
        "copy zipped results to google drive"
      ]
    },
    {
      "cell_type": "code",
      "execution_count": null,
      "metadata": {
        "id": "3f4BJkKRGNDo"
      },
      "outputs": [],
      "source": [
        "!cp /content/ResultGTZAN4_25_2.zip /content/drive/MyDrive/ASTonGTZAN-main/\n"
      ]
    },
    {
      "cell_type": "code",
      "source": [
        "!cp /content/ASTonGTZAN/egs/GTZAN/exp/test-GTZAN-f10-t10-pTrue-b3-lr5.5e-5-decoupe/models/best_audio_model.pth /content/drive/MyDrive/ASTonGTZAN-main"
      ],
      "metadata": {
        "id": "eounwM2U7Z_L"
      },
      "execution_count": 20,
      "outputs": []
    },
    {
      "cell_type": "code",
      "source": [
        "!cp /content/ASTrampingintermixup.zip /content/drive/MyDrive/ASTonGTZAN-main/"
      ],
      "metadata": {
        "id": "4W5VGZTz8p46"
      },
      "execution_count": 22,
      "outputs": []
    },
    {
      "cell_type": "markdown",
      "metadata": {
        "id": "5Ej1Xp8RHtw9"
      },
      "source": [
        "Download zipped results"
      ]
    },
    {
      "cell_type": "code",
      "execution_count": null,
      "metadata": {
        "id": "jwjveJHzG-Tm",
        "colab": {
          "base_uri": "https://localhost:8080/",
          "height": 349
        },
        "outputId": "023b9859-2d1d-4199-a03f-ae7394122388"
      },
      "outputs": [
        {
          "output_type": "error",
          "ename": "FileNotFoundError",
          "evalue": "Cannot find file: /content/ResultGTZAN4_24_12.zip",
          "traceback": [
            "\u001b[0;31m---------------------------------------------------------------------------\u001b[0m",
            "\u001b[0;31mFileNotFoundError\u001b[0m                         Traceback (most recent call last)",
            "\u001b[0;32m<ipython-input-19-4b902f4ed87f>\u001b[0m in \u001b[0;36m<cell line: 2>\u001b[0;34m()\u001b[0m\n\u001b[1;32m      1\u001b[0m \u001b[0;32mfrom\u001b[0m \u001b[0mgoogle\u001b[0m\u001b[0;34m.\u001b[0m\u001b[0mcolab\u001b[0m \u001b[0;32mimport\u001b[0m \u001b[0mfiles\u001b[0m\u001b[0;34m\u001b[0m\u001b[0;34m\u001b[0m\u001b[0m\n\u001b[0;32m----> 2\u001b[0;31m \u001b[0mfiles\u001b[0m\u001b[0;34m.\u001b[0m\u001b[0mdownload\u001b[0m\u001b[0;34m(\u001b[0m\u001b[0;34m\"/content/ResultGTZAN4_24_12.zip\"\u001b[0m\u001b[0;34m)\u001b[0m\u001b[0;34m\u001b[0m\u001b[0;34m\u001b[0m\u001b[0m\n\u001b[0m",
            "\u001b[0;32m/usr/local/lib/python3.10/dist-packages/google/colab/files.py\u001b[0m in \u001b[0;36mdownload\u001b[0;34m(filename)\u001b[0m\n\u001b[1;32m    223\u001b[0m   \u001b[0;32mif\u001b[0m \u001b[0;32mnot\u001b[0m \u001b[0m_os\u001b[0m\u001b[0;34m.\u001b[0m\u001b[0mpath\u001b[0m\u001b[0;34m.\u001b[0m\u001b[0mexists\u001b[0m\u001b[0;34m(\u001b[0m\u001b[0mfilename\u001b[0m\u001b[0;34m)\u001b[0m\u001b[0;34m:\u001b[0m\u001b[0;34m\u001b[0m\u001b[0;34m\u001b[0m\u001b[0m\n\u001b[1;32m    224\u001b[0m     \u001b[0mmsg\u001b[0m \u001b[0;34m=\u001b[0m \u001b[0;34m'Cannot find file: {}'\u001b[0m\u001b[0;34m.\u001b[0m\u001b[0mformat\u001b[0m\u001b[0;34m(\u001b[0m\u001b[0mfilename\u001b[0m\u001b[0;34m)\u001b[0m\u001b[0;34m\u001b[0m\u001b[0;34m\u001b[0m\u001b[0m\n\u001b[0;32m--> 225\u001b[0;31m     \u001b[0;32mraise\u001b[0m \u001b[0mFileNotFoundError\u001b[0m\u001b[0;34m(\u001b[0m\u001b[0mmsg\u001b[0m\u001b[0;34m)\u001b[0m  \u001b[0;31m# pylint: disable=undefined-variable\u001b[0m\u001b[0;34m\u001b[0m\u001b[0;34m\u001b[0m\u001b[0m\n\u001b[0m\u001b[1;32m    226\u001b[0m \u001b[0;34m\u001b[0m\u001b[0m\n\u001b[1;32m    227\u001b[0m   \u001b[0mcomm_manager\u001b[0m \u001b[0;34m=\u001b[0m \u001b[0m_IPython\u001b[0m\u001b[0;34m.\u001b[0m\u001b[0mget_ipython\u001b[0m\u001b[0;34m(\u001b[0m\u001b[0;34m)\u001b[0m\u001b[0;34m.\u001b[0m\u001b[0mkernel\u001b[0m\u001b[0;34m.\u001b[0m\u001b[0mcomm_manager\u001b[0m\u001b[0;34m\u001b[0m\u001b[0;34m\u001b[0m\u001b[0m\n",
            "\u001b[0;31mFileNotFoundError\u001b[0m: Cannot find file: /content/ResultGTZAN4_24_12.zip"
          ]
        }
      ],
      "source": [
        "from google.colab import files\n",
        "files.download(\"/content/ResultGTZAN4_24_12.zip\")\n"
      ]
    }
  ],
  "metadata": {
    "accelerator": "GPU",
    "colab": {
      "gpuType": "T4",
      "machine_shape": "hm",
      "provenance": []
    },
    "kernelspec": {
      "display_name": "Python 3",
      "name": "python3"
    },
    "language_info": {
      "name": "python"
    }
  },
  "nbformat": 4,
  "nbformat_minor": 0
}