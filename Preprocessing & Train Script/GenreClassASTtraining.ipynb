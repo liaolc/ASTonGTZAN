{
  "cells": [
    {
      "cell_type": "markdown",
      "metadata": {
        "colab_type": "text",
        "id": "view-in-github"
      },
      "source": [
        "<a href=\"https://colab.research.google.com/github/Tyler-Schwenk/ast-Rana-Draytonii/blob/master/ASTtraining.ipynb\" target=\"_parent\"><img src=\"https://colab.research.google.com/assets/colab-badge.svg\" alt=\"Open In Colab\"/></a>"
      ]
    },
    {
      "cell_type": "markdown",
      "metadata": {
        "id": "rMgme0ubOWEw"
      },
      "source": [
        "Adapted from Tyler Schwenk - tylerschwenk1@yahoo.com \n",
        "Changes made April 2024\n",
        "\n",
        "Start by changing to a runtime with a GPU accelerator."
      ]
    },
    {
      "cell_type": "markdown",
      "metadata": {
        "id": "M3vtsdTCsXdZ"
      },
      "source": [
        "**clone the repo**"
      ]
    },
    {
      "cell_type": "code",
      "execution_count": null,
      "metadata": {
        "colab": {
          "base_uri": "https://localhost:8080/"
        },
        "id": "AEq6WnwksQg_",
        "outputId": "f4d296ec-f8aa-4de9-9e38-bb038ca48b38"
      },
      "outputs": [
        {
          "name": "stdout",
          "output_type": "stream",
          "text": [
            "Cloning into 'ast-Rana-Draytonii'...\n",
            "remote: Enumerating objects: 749, done.\u001b[K\n",
            "remote: Counting objects: 100% (246/246), done.\u001b[K\n",
            "remote: Compressing objects: 100% (145/145), done.\u001b[K\n",
            "remote: Total 749 (delta 122), reused 189 (delta 98), pack-reused 503\u001b[K\n",
            "Receiving objects: 100% (749/749), 2.46 MiB | 8.70 MiB/s, done.\n",
            "Resolving deltas: 100% (382/382), done.\n"
          ]
        }
      ],
      "source": [
        "!git clone https://github.com/liaolc/ASTonGTZAN.git"
      ]
    },
    {
      "cell_type": "markdown",
      "metadata": {
        "id": "ExwQbEZ3FztL"
      },
      "source": [
        "**Mount google drive where data is stored**\n",
        " (requires authentication)"
      ]
    },
    {
      "cell_type": "code",
      "execution_count": null,
      "metadata": {
        "colab": {
          "base_uri": "https://localhost:8080/"
        },
        "id": "xKnlnQG-Fs5r",
        "outputId": "5b3053a3-6acd-4812-c9ad-72083785d0dd"
      },
      "outputs": [
        {
          "name": "stdout",
          "output_type": "stream",
          "text": [
            "Mounted at /content/drive\n"
          ]
        }
      ],
      "source": [
        "from google.colab import drive\n",
        "drive.mount('/content/drive')\n"
      ]
    },
    {
      "cell_type": "markdown",
      "metadata": {
        "id": "_EH0XKViHyh4"
      },
      "source": [
        "**Install dependencies**"
      ]
    },
    {
      "cell_type": "code",
      "execution_count": null,
      "metadata": {
        "colab": {
          "base_uri": "https://localhost:8080/"
        },
        "id": "VIarrebOH0Vv",
        "outputId": "52316249-bd75-4008-9567-da26802e16ce"
      },
      "outputs": [
        {
          "name": "stdout",
          "output_type": "stream",
          "text": [
            "Collecting timm==0.4.5\n",
            "  Downloading timm-0.4.5-py3-none-any.whl (287 kB)\n",
            "\u001b[?25l     \u001b[90m━━━━━━━━━━━━━━━━━━━━━━━━━━━━━━━━━━━━━━━━\u001b[0m \u001b[32m0.0/287.4 kB\u001b[0m \u001b[31m?\u001b[0m eta \u001b[36m-:--:--\u001b[0m\r\u001b[2K     \u001b[91m━━━━━━━━━━━━━━━━━━━━━━━━━━━━━━━━━━\u001b[0m\u001b[91m╸\u001b[0m\u001b[90m━━━━\u001b[0m \u001b[32m256.0/287.4 kB\u001b[0m \u001b[31m7.5 MB/s\u001b[0m eta \u001b[36m0:00:01\u001b[0m\r\u001b[2K     \u001b[90m━━━━━━━━━━━━━━━━━━━━━━━━━━━━━━━━━━━━━━━\u001b[0m \u001b[32m287.4/287.4 kB\u001b[0m \u001b[31m6.2 MB/s\u001b[0m eta \u001b[36m0:00:00\u001b[0m\n",
            "\u001b[?25hRequirement already satisfied: torch>=1.4 in /usr/local/lib/python3.10/dist-packages (from timm==0.4.5) (2.0.1+cu118)\n",
            "Requirement already satisfied: torchvision in /usr/local/lib/python3.10/dist-packages (from timm==0.4.5) (0.15.2+cu118)\n",
            "Requirement already satisfied: filelock in /usr/local/lib/python3.10/dist-packages (from torch>=1.4->timm==0.4.5) (3.12.2)\n",
            "Requirement already satisfied: typing-extensions in /usr/local/lib/python3.10/dist-packages (from torch>=1.4->timm==0.4.5) (4.6.3)\n",
            "Requirement already satisfied: sympy in /usr/local/lib/python3.10/dist-packages (from torch>=1.4->timm==0.4.5) (1.11.1)\n",
            "Requirement already satisfied: networkx in /usr/local/lib/python3.10/dist-packages (from torch>=1.4->timm==0.4.5) (3.1)\n",
            "Requirement already satisfied: jinja2 in /usr/local/lib/python3.10/dist-packages (from torch>=1.4->timm==0.4.5) (3.1.2)\n",
            "Requirement already satisfied: triton==2.0.0 in /usr/local/lib/python3.10/dist-packages (from torch>=1.4->timm==0.4.5) (2.0.0)\n",
            "Requirement already satisfied: cmake in /usr/local/lib/python3.10/dist-packages (from triton==2.0.0->torch>=1.4->timm==0.4.5) (3.25.2)\n",
            "Requirement already satisfied: lit in /usr/local/lib/python3.10/dist-packages (from triton==2.0.0->torch>=1.4->timm==0.4.5) (16.0.6)\n",
            "Requirement already satisfied: numpy in /usr/local/lib/python3.10/dist-packages (from torchvision->timm==0.4.5) (1.22.4)\n",
            "Requirement already satisfied: requests in /usr/local/lib/python3.10/dist-packages (from torchvision->timm==0.4.5) (2.27.1)\n",
            "Requirement already satisfied: pillow!=8.3.*,>=5.3.0 in /usr/local/lib/python3.10/dist-packages (from torchvision->timm==0.4.5) (8.4.0)\n",
            "Requirement already satisfied: MarkupSafe>=2.0 in /usr/local/lib/python3.10/dist-packages (from jinja2->torch>=1.4->timm==0.4.5) (2.1.3)\n",
            "Requirement already satisfied: urllib3<1.27,>=1.21.1 in /usr/local/lib/python3.10/dist-packages (from requests->torchvision->timm==0.4.5) (1.26.16)\n",
            "Requirement already satisfied: certifi>=2017.4.17 in /usr/local/lib/python3.10/dist-packages (from requests->torchvision->timm==0.4.5) (2023.5.7)\n",
            "Requirement already satisfied: charset-normalizer~=2.0.0 in /usr/local/lib/python3.10/dist-packages (from requests->torchvision->timm==0.4.5) (2.0.12)\n",
            "Requirement already satisfied: idna<4,>=2.5 in /usr/local/lib/python3.10/dist-packages (from requests->torchvision->timm==0.4.5) (3.4)\n",
            "Requirement already satisfied: mpmath>=0.19 in /usr/local/lib/python3.10/dist-packages (from sympy->torch>=1.4->timm==0.4.5) (1.3.0)\n",
            "Installing collected packages: timm\n",
            "Successfully installed timm-0.4.5\n",
            "Collecting wget\n",
            "  Downloading wget-3.2.zip (10 kB)\n",
            "  Preparing metadata (setup.py) ... \u001b[?25l\u001b[?25hdone\n",
            "Building wheels for collected packages: wget\n",
            "  Building wheel for wget (setup.py) ... \u001b[?25l\u001b[?25hdone\n",
            "  Created wheel for wget: filename=wget-3.2-py3-none-any.whl size=9657 sha256=cb6e452053784e2d11dda8d2a718ef030f8f9bc97a6cd5260b608a8fcee345a8\n",
            "  Stored in directory: /root/.cache/pip/wheels/8b/f1/7f/5c94f0a7a505ca1c81cd1d9208ae2064675d97582078e6c769\n",
            "Successfully built wget\n",
            "Installing collected packages: wget\n",
            "Successfully installed wget-3.2\n",
            "Requirement already satisfied: torchaudio in /usr/local/lib/python3.10/dist-packages (2.0.2+cu118)\n",
            "Requirement already satisfied: torch==2.0.1 in /usr/local/lib/python3.10/dist-packages (from torchaudio) (2.0.1+cu118)\n",
            "Requirement already satisfied: filelock in /usr/local/lib/python3.10/dist-packages (from torch==2.0.1->torchaudio) (3.12.2)\n",
            "Requirement already satisfied: typing-extensions in /usr/local/lib/python3.10/dist-packages (from torch==2.0.1->torchaudio) (4.6.3)\n",
            "Requirement already satisfied: sympy in /usr/local/lib/python3.10/dist-packages (from torch==2.0.1->torchaudio) (1.11.1)\n",
            "Requirement already satisfied: networkx in /usr/local/lib/python3.10/dist-packages (from torch==2.0.1->torchaudio) (3.1)\n",
            "Requirement already satisfied: jinja2 in /usr/local/lib/python3.10/dist-packages (from torch==2.0.1->torchaudio) (3.1.2)\n",
            "Requirement already satisfied: triton==2.0.0 in /usr/local/lib/python3.10/dist-packages (from torch==2.0.1->torchaudio) (2.0.0)\n",
            "Requirement already satisfied: cmake in /usr/local/lib/python3.10/dist-packages (from triton==2.0.0->torch==2.0.1->torchaudio) (3.25.2)\n",
            "Requirement already satisfied: lit in /usr/local/lib/python3.10/dist-packages (from triton==2.0.0->torch==2.0.1->torchaudio) (16.0.6)\n",
            "Requirement already satisfied: MarkupSafe>=2.0 in /usr/local/lib/python3.10/dist-packages (from jinja2->torch==2.0.1->torchaudio) (2.1.3)\n",
            "Requirement already satisfied: mpmath>=0.19 in /usr/local/lib/python3.10/dist-packages (from sympy->torch==2.0.1->torchaudio) (1.3.0)\n",
            "[Errno 2] No such file or directory: 'ast/'\n",
            "/content\n"
          ]
        }
      ],
      "source": [
        "# Append the 'ast' directory to sys.path\n",
        "import sys\n",
        "sys.path.append('./ast')\n",
        "\n",
        "# Install required packages\n",
        "!pip install timm==0.4.5\n",
        "!pip install wget\n",
        "!pip install torchaudio\n",
        "\n",
        "\n",
        "# Import necessary packages\n",
        "import os, csv, argparse, wget\n",
        "import torch, torchaudio, timm\n",
        "import numpy as np\n",
        "from torch.cuda.amp import autocast\n",
        "import IPython\n",
        "\n",
        "# Make sure you're in the right directory\n",
        "%cd ast/\n",
        "\n",
        "# Set the TORCH_HOME environment variable (for saving pretrained models)\n",
        "os.environ['TORCH_HOME'] = './pretrained_models'\n",
        "if os.path.exists('./pretrained_models') == False:\n",
        "  os.mkdir('./pretrained_models')"
      ]
    },
    {
      "cell_type": "markdown",
      "metadata": {
        "id": "O-PTQ3lS3u3e"
      },
      "source": [
        "**Navigate to correct directory**"
      ]
    },
    {
      "cell_type": "code",
      "execution_count": null,
      "metadata": {
        "colab": {
          "base_uri": "https://localhost:8080/"
        },
        "id": "IeL2VV1XHnzW",
        "outputId": "576f7758-cef0-4831-92e8-f395ac2725a7"
      },
      "outputs": [
        {
          "name": "stdout",
          "output_type": "stream",
          "text": [
            "/content/ast-Rana-Draytonii/egs/Rana7\n"
          ]
        }
      ],
      "source": [
        "%cd ASTonGTZAN/egs/GTZAN/"
      ]
    },
    {
      "cell_type": "code",
      "execution_count": null,
      "metadata": {
        "id": "NHf8ubz_JtTV"
      },
      "outputs": [],
      "source": [
        "#give execute permission to run.sh\n",
        "!chmod +x ./run.sh\n"
      ]
    },
    {
      "cell_type": "markdown",
      "metadata": {
        "id": "l4tZb0NfHlC7"
      },
      "source": [
        "**Run the training script**"
      ]
    },
    {
      "cell_type": "code",
      "execution_count": null,
      "metadata": {
        "colab": {
          "base_uri": "https://localhost:8080/"
        },
        "id": "98DEv8BmJhBB",
        "outputId": "147f02b9-d685-4a91-b3c4-bb8b17414ccf"
      },
      "outputs": [
        {
          "name": "stdout",
          "output_type": "stream",
          "text": [
            "+ export TORCH_HOME=../../pretrained_models\n",
            "+ TORCH_HOME=../../pretrained_models\n",
            "+ model=ast\n",
            "+ dataset=Rana_Draytonii\n",
            "+ set=balanced\n",
            "+ imagenetpretrain=True\n",
            "+ lr=1e-5\n",
            "+ epoch=5\n",
            "+ tr_data=/content/drive/MyDrive/Rana_Draytonii/Rana7/train_data.json\n",
            "+ te_data=/content/drive/MyDrive/Rana_Draytonii/Rana7/val_data.json\n",
            "+ freqm=48\n",
            "+ timem=200\n",
            "+ mixup=0.5\n",
            "+ fstride=10\n",
            "+ tstride=10\n",
            "+ batch_size=4\n",
            "+ dataset_mean=-4.27\n",
            "+ dataset_std=4.57\n",
            "+ audio_length=1000\n",
            "+ noise=False\n",
            "+ metrics=acc\n",
            "+ loss=BCE\n",
            "+ warmup=True\n",
            "+ wa=True\n",
            "+ exp_dir=./exp/test-balanced-f10-t10-pTrue-b4-lr1e-5-decoupe\n",
            "+ '[' -d ./exp/test-balanced-f10-t10-pTrue-b4-lr1e-5-decoupe ']'\n",
            "+ mkdir -p ./exp/test-balanced-f10-t10-pTrue-b4-lr1e-5-decoupe\n",
            "+ python -W ignore ../../src/run.py --model ast --dataset Rana_Draytonii --data-train /content/drive/MyDrive/Rana_Draytonii/Rana7/train_data.json --data-val /content/drive/MyDrive/Rana_Draytonii/Rana7/val_data.json --exp-dir ./exp/test-balanced-f10-t10-pTrue-b4-lr1e-5-decoupe --label-csv /content/drive/MyDrive/Rana_Draytonii/Rana7/labels.csv --n_class 2 --lr 1e-5 --n-epochs 5 --batch-size 4 --save_model True --freqm 48 --timem 200 --mixup 0.5 --tstride 10 --fstride 10 --imagenet_pretrain True --dataset_mean -4.27 --dataset_std 4.57 --audio_length 1000 --noise False --metrics acc --loss BCE --warmup True --wa True\n",
            "I am process 2805, running on da60f6c44491: starting (Wed Jun 28 17:36:43 2023)\n",
            "now train a audio spectrogram transformer model\n",
            "balanced sampler is not used\n",
            "---------------the train dataloader---------------\n",
            "now using following mask: 48 freq, 200 time\n",
            "now using mix-up with rate 0.500000\n",
            "now process Rana_Draytonii\n",
            "use dataset mean -4.270 and std 4.570 to normalize the input.\n",
            "{'/m/positive': '0', '/m/negative': '1'}\n",
            "number of classes is 2\n",
            "---------------the evaluation dataloader---------------\n",
            "now using following mask: 0 freq, 0 time\n",
            "now using mix-up with rate 0.000000\n",
            "now process Rana_Draytonii\n",
            "use dataset mean -4.270 and std 4.570 to normalize the input.\n",
            "{'/m/positive': '0', '/m/negative': '1'}\n",
            "number of classes is 2\n",
            "---------------AST Model Summary---------------\n",
            "ImageNet pretraining: True, AudioSet pretraining: False\n",
            "Downloading: \"https://dl.fbaipublicfiles.com/deit/deit_base_distilled_patch16_384-d0272ac0.pth\" to ../../pretrained_models/hub/checkpoints/deit_base_distilled_patch16_384-d0272ac0.pth\n",
            "frequncey stride=10, time stride=10\n",
            "number of patches=1188\n",
            "\n",
            "Creating experiment directory: ./exp/test-balanced-f10-t10-pTrue-b4-lr1e-5-decoupe\n",
            "Now starting training for 5 epochs\n",
            "running on cuda\n",
            "Total parameter number is : 87.710 million\n",
            "Total trainable parameter number is : 87.710 million\n",
            "now training with Rana_Draytonii, main metrics: acc, loss function: BCEWithLogitsLoss(), learning rate scheduler: <torch.optim.lr_scheduler.MultiStepLR object at 0x7f48657d78b0>\n",
            "The learning rate scheduler starts at 2 epoch with decay rate of 0.500 every 1 epochs\n",
            "current #steps=0, #epochs=1\n",
            "start training...\n",
            "---------------\n",
            "2023-06-28 17:36:56.793667\n",
            "current #epochs=1, #steps=0\n",
            "warm-up learning rate is 0.000000\n",
            "warm-up learning rate is 0.000001\n",
            "warm-up learning rate is 0.000001\n",
            "Epoch: [1][100/113]\tPer Sample Total Time 0.06945\tPer Sample Data Time 0.00980\tPer Sample DNN Time 0.05965\tTrain Loss 0.7176\t\n",
            "start validation\n",
            "acc: 0.887500\n",
            "AUC: 0.916667\n",
            "Avg Precision: 0.500000\n",
            "Avg Recall: 1.000000\n",
            "d_prime: 1.955849\n",
            "train_loss: 0.708876\n",
            "valid_loss: 0.685602\n",
            "validation finished\n",
            "Epoch-1 lr: 1.0000000000000002e-06\n",
            "epoch 1 training time: 45.409\n",
            "---------------\n",
            "2023-06-28 17:37:42.202551\n",
            "current #epochs=2, #steps=113\n",
            "warm-up learning rate is 0.000002\n",
            "warm-up learning rate is 0.000002\n",
            "Epoch: [2][87/113]\tPer Sample Total Time 0.04299\tPer Sample Data Time 0.00566\tPer Sample DNN Time 0.03733\tTrain Loss 0.5173\t\n",
            "start validation\n",
            "acc: 0.912500\n",
            "AUC: 0.995614\n",
            "Avg Precision: 0.500000\n",
            "Avg Recall: 1.000000\n",
            "d_prime: 3.706395\n",
            "train_loss: 0.498951\n",
            "valid_loss: 0.596474\n",
            "validation finished\n",
            "Epoch-2 lr: 1.0000000000000002e-06\n",
            "epoch 2 training time: 26.445\n",
            "---------------\n",
            "2023-06-28 17:38:08.647459\n",
            "current #epochs=3, #steps=226\n",
            "warm-up learning rate is 0.000003\n",
            "warm-up learning rate is 0.000003\n",
            "Epoch: [3][74/113]\tPer Sample Total Time 0.04412\tPer Sample Data Time 0.00704\tPer Sample DNN Time 0.03708\tTrain Loss 0.3840\t\n",
            "start validation\n",
            "acc: 0.987500\n",
            "AUC: 0.999060\n",
            "Avg Precision: 0.500000\n",
            "Avg Recall: 1.000000\n",
            "d_prime: 4.396238\n",
            "train_loss: 0.373890\n",
            "valid_loss: 0.559267\n",
            "validation finished\n",
            "Epoch-3 lr: 1.5e-06\n",
            "epoch 3 training time: 27.718\n",
            "---------------\n",
            "2023-06-28 17:38:36.365466\n",
            "current #epochs=4, #steps=339\n",
            "warm-up learning rate is 0.000003\n",
            "warm-up learning rate is 0.000004\n",
            "Epoch: [4][61/113]\tPer Sample Total Time 0.04441\tPer Sample Data Time 0.00681\tPer Sample DNN Time 0.03760\tTrain Loss 0.3423\t\n",
            "warm-up learning rate is 0.000005\n",
            "start validation\n",
            "acc: 0.987500\n",
            "AUC: 1.000000\n",
            "Avg Precision: 0.500000\n",
            "Avg Recall: 1.000000\n",
            "d_prime: inf\n",
            "train_loss: 0.322018\n",
            "valid_loss: 0.541945\n",
            "validation finished\n",
            "Epoch-4 lr: 2.25e-06\n",
            "epoch 4 training time: 22.032\n",
            "---------------\n",
            "2023-06-28 17:38:58.397831\n",
            "current #epochs=5, #steps=452\n",
            "warm-up learning rate is 0.000005\n",
            "Epoch: [5][48/113]\tPer Sample Total Time 0.04825\tPer Sample Data Time 0.01038\tPer Sample DNN Time 0.03787\tTrain Loss 0.2863\t\n",
            "warm-up learning rate is 0.000006\n",
            "start validation\n",
            "acc: 0.962500\n",
            "AUC: 1.000000\n",
            "Avg Precision: 0.500000\n",
            "Avg Recall: 1.000000\n",
            "d_prime: inf\n",
            "train_loss: 0.303419\n",
            "valid_loss: 0.543832\n",
            "validation finished\n",
            "Epoch-5 lr: 2.7500000000000004e-06\n",
            "epoch 5 training time: 22.106\n",
            "---------------Training Finished---------------\n",
            "weighted averaged model results\n",
            "mAP: 1.000000\n",
            "AUC: 1.000000\n",
            "Avg Precision: 0.500000\n",
            "Avg Recall: 1.000000\n",
            "d_prime: inf\n",
            "train_loss: 0.000000\n",
            "valid_loss: 0.543832\n"
          ]
        }
      ],
      "source": [
        "!./run.sh"
      ]
    },
    {
      "cell_type": "markdown",
      "metadata": {
        "id": "oWcezAfaHnAa"
      },
      "source": [
        "Zip results"
      ]
    },
    {
      "cell_type": "code",
      "execution_count": null,
      "metadata": {
        "id": "YG9QLEZdEzd_"
      },
      "outputs": [],
      "source": [
        "!zip -r /content/ResultGTZAN1.zip /content/ASTonGTZAN/egs/GTZAN\n"
      ]
    },
    {
      "cell_type": "markdown",
      "metadata": {
        "id": "itpCghaGHpFP"
      },
      "source": [
        "copy zipped results to google drive"
      ]
    },
    {
      "cell_type": "code",
      "execution_count": null,
      "metadata": {
        "id": "3f4BJkKRGNDo"
      },
      "outputs": [],
      "source": [
        "!cp /content/ResultGTZAN1.zip /content/drive/MyDrive/ast-music-genre-classifier/\n"
      ]
    },
    {
      "cell_type": "markdown",
      "metadata": {
        "id": "5Ej1Xp8RHtw9"
      },
      "source": [
        "Download zipped results"
      ]
    },
    {
      "cell_type": "code",
      "execution_count": null,
      "metadata": {
        "colab": {
          "base_uri": "https://localhost:8080/",
          "height": 34
        },
        "id": "jwjveJHzG-Tm",
        "outputId": "5a15f10c-ee60-4b5f-d208-562af98d1630"
      },
      "outputs": [
        {
          "data": {
            "application/javascript": "\n    async function download(id, filename, size) {\n      if (!google.colab.kernel.accessAllowed) {\n        return;\n      }\n      const div = document.createElement('div');\n      const label = document.createElement('label');\n      label.textContent = `Downloading \"${filename}\": `;\n      div.appendChild(label);\n      const progress = document.createElement('progress');\n      progress.max = size;\n      div.appendChild(progress);\n      document.body.appendChild(div);\n\n      const buffers = [];\n      let downloaded = 0;\n\n      const channel = await google.colab.kernel.comms.open(id);\n      // Send a message to notify the kernel that we're ready.\n      channel.send({})\n\n      for await (const message of channel.messages) {\n        // Send a message to notify the kernel that we're ready.\n        channel.send({})\n        if (message.buffers) {\n          for (const buffer of message.buffers) {\n            buffers.push(buffer);\n            downloaded += buffer.byteLength;\n            progress.value = downloaded;\n          }\n        }\n      }\n      const blob = new Blob(buffers, {type: 'application/binary'});\n      const a = document.createElement('a');\n      a.href = window.URL.createObjectURL(blob);\n      a.download = filename;\n      div.appendChild(a);\n      a.click();\n      div.remove();\n    }\n  ",
            "text/plain": [
              "<IPython.core.display.Javascript object>"
            ]
          },
          "metadata": {},
          "output_type": "display_data"
        },
        {
          "data": {
            "application/javascript": "download(\"download_f5de9f02-c811-4614-8507-ba15b90826ec\", \"ResultRana7.zip\", 2913517036)",
            "text/plain": [
              "<IPython.core.display.Javascript object>"
            ]
          },
          "metadata": {},
          "output_type": "display_data"
        }
      ],
      "source": [
        "from google.colab import files\n",
        "files.download(\"/content/ResultGTZAN1.zip\")\n"
      ]
    }
  ],
  "metadata": {
    "accelerator": "GPU",
    "colab": {
      "authorship_tag": "ABX9TyM3z/+Qc1cvpbrDUXT0W7hh",
      "gpuType": "V100",
      "include_colab_link": true,
      "machine_shape": "hm",
      "provenance": []
    },
    "kernelspec": {
      "display_name": "Python 3",
      "name": "python3"
    },
    "language_info": {
      "name": "python"
    }
  },
  "nbformat": 4,
  "nbformat_minor": 0
}
